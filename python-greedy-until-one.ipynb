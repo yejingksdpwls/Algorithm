{
 "cells": [
  {
   "cell_type": "markdown",
   "metadata": {},
   "source": [
    "## [ 그리디 ]\n",
    "\n",
    "### [ 1이 될 때까지 ]\n",
    "\n",
    "어떠한 수 N이 1이 될 떄까지 다음의 두 과정 중 하나를 반복적으로 선택해 수행하려고 한다. 두 번째 연산은 N이 K로 나누어 떨어질 때만 선택할 수 있다. \n",
    "1. N에서 1을 뺀다.\n",
    "2. N을 K로 나눈다.\n",
    "\n",
    "N과 K가 주어질 때 N이 1이 될 때까지 1번 혹은 2번의 과정을 수행해야 하는 최소 횟수를 구하는 프로그램을 작성하시오."
   ]
  },
  {
   "cell_type": "code",
   "execution_count": 1,
   "metadata": {},
   "outputs": [],
   "source": [
    "def until_one(N,K):\n",
    "    count = 0\n",
    "    while N>1:\n",
    "        if N % K == 0:\n",
    "            N /= K\n",
    "            count += 1\n",
    "        else:\n",
    "            N -= 1\n",
    "            count += 1\n",
    "    return count"
   ]
  },
  {
   "cell_type": "code",
   "execution_count": 5,
   "metadata": {},
   "outputs": [
    {
     "data": {
      "text/plain": [
       "2"
      ]
     },
     "execution_count": 5,
     "metadata": {},
     "output_type": "execute_result"
    }
   ],
   "source": [
    "N, K = map(int, input().split())\n",
    "until_one(N,K)"
   ]
  }
 ],
 "metadata": {
  "kernelspec": {
   "display_name": "Python 3",
   "language": "python",
   "name": "python3"
  },
  "language_info": {
   "codemirror_mode": {
    "name": "ipython",
    "version": 3
   },
   "file_extension": ".py",
   "mimetype": "text/x-python",
   "name": "python",
   "nbconvert_exporter": "python",
   "pygments_lexer": "ipython3",
   "version": "3.9.2"
  }
 },
 "nbformat": 4,
 "nbformat_minor": 2
}
