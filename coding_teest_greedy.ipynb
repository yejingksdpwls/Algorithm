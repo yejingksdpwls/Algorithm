{
  "nbformat": 4,
  "nbformat_minor": 0,
  "metadata": {
    "colab": {
      "provenance": []
    },
    "kernelspec": {
      "name": "python3",
      "display_name": "Python 3"
    },
    "language_info": {
      "name": "python"
    }
  },
  "cells": [
    {
      "cell_type": "markdown",
      "source": [
        "###[ 당징 좋은 것만 선택하는 그리디 ]\n",
        "[ **거스름돈** ]\n",
        "\n",
        "당신은 음식점의 게산을 도와주는 점원이다. 카운터에는 거스름돈으로 사용할 500원, 100원, 50원, 10원짜리 동전이 무한히 존재한다고 가정한다. 손님에게 거슬러 줘야 할 돈이 N원일 때 거슬러 줘야 할 동전의 최소 개수를 구하라. 단, 거슬러 줘야 할 돈 N은 항상 10의 배수이다.\n",
        "\n",
        "\n"
      ],
      "metadata": {
        "id": "LcgLcpbkydWD"
      }
    },
    {
      "cell_type": "code",
      "execution_count": 1,
      "metadata": {
        "id": "FVirVQQAyWG3"
      },
      "outputs": [],
      "source": [
        "def money_return(N):\n",
        "  sum = 0\n",
        "  n = N\n",
        "\n",
        "  for i in [500,100, 50, 10]:\n",
        "    sum += n//i\n",
        "    n %= i\n",
        "\n",
        "  return sum"
      ]
    }
  ]
}